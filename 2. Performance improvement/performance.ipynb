{
 "cells": [
  {
   "cell_type": "code",
   "execution_count": 98,
   "id": "fb891ac2",
   "metadata": {},
   "outputs": [],
   "source": [
    "import pandas as pd\n",
    "import numpy as np\n",
    "import pickle"
   ]
  },
  {
   "cell_type": "markdown",
   "id": "7987ed5e",
   "metadata": {},
   "source": [
    "## Loading the data"
   ]
  },
  {
   "cell_type": "code",
   "execution_count": 55,
   "id": "c6c2aacc",
   "metadata": {},
   "outputs": [],
   "source": [
    "csv_file = \"C:\\\\Users\\kvba\\\\OneDrive - Ramboll\\\\Projects\\\\Ship traffic data of Fehmarnbelt\\\\data\\\\aisdk_20190102.csv\""
   ]
  },
  {
   "cell_type": "code",
   "execution_count": 61,
   "id": "66fe8b54",
   "metadata": {},
   "outputs": [
    {
     "name": "stdout",
     "output_type": "stream",
     "text": [
      "Wall time: 24.5 s\n"
     ]
    },
    {
     "data": {
      "text/html": [
       "<div>\n",
       "<style scoped>\n",
       "    .dataframe tbody tr th:only-of-type {\n",
       "        vertical-align: middle;\n",
       "    }\n",
       "\n",
       "    .dataframe tbody tr th {\n",
       "        vertical-align: top;\n",
       "    }\n",
       "\n",
       "    .dataframe thead th {\n",
       "        text-align: right;\n",
       "    }\n",
       "</style>\n",
       "<table border=\"1\" class=\"dataframe\">\n",
       "  <thead>\n",
       "    <tr style=\"text-align: right;\">\n",
       "      <th></th>\n",
       "      <th># Timestamp</th>\n",
       "      <th>Type of mobile</th>\n",
       "      <th>MMSI</th>\n",
       "      <th>Latitude</th>\n",
       "      <th>Longitude</th>\n",
       "      <th>Navigational status</th>\n",
       "      <th>ROT</th>\n",
       "      <th>SOG</th>\n",
       "      <th>COG</th>\n",
       "      <th>Heading</th>\n",
       "      <th>...</th>\n",
       "      <th>Length</th>\n",
       "      <th>Type of position fixing device</th>\n",
       "      <th>Draught</th>\n",
       "      <th>Destination</th>\n",
       "      <th>ETA</th>\n",
       "      <th>Data source type</th>\n",
       "      <th>A</th>\n",
       "      <th>B</th>\n",
       "      <th>C</th>\n",
       "      <th>D</th>\n",
       "    </tr>\n",
       "  </thead>\n",
       "  <tbody>\n",
       "    <tr>\n",
       "      <th>0</th>\n",
       "      <td>02/01/2019 00:00:00</td>\n",
       "      <td>Base Station</td>\n",
       "      <td>2194005</td>\n",
       "      <td>56.344267</td>\n",
       "      <td>4.272000</td>\n",
       "      <td>Unknown value</td>\n",
       "      <td>NaN</td>\n",
       "      <td>NaN</td>\n",
       "      <td>NaN</td>\n",
       "      <td>NaN</td>\n",
       "      <td>...</td>\n",
       "      <td>NaN</td>\n",
       "      <td>Surveyed</td>\n",
       "      <td>NaN</td>\n",
       "      <td>NaN</td>\n",
       "      <td>NaN</td>\n",
       "      <td>AIS</td>\n",
       "      <td>NaN</td>\n",
       "      <td>NaN</td>\n",
       "      <td>NaN</td>\n",
       "      <td>NaN</td>\n",
       "    </tr>\n",
       "    <tr>\n",
       "      <th>1</th>\n",
       "      <td>02/01/2019 00:00:00</td>\n",
       "      <td>Class B</td>\n",
       "      <td>266434000</td>\n",
       "      <td>57.715117</td>\n",
       "      <td>10.583545</td>\n",
       "      <td>Unknown value</td>\n",
       "      <td>NaN</td>\n",
       "      <td>0.0</td>\n",
       "      <td>NaN</td>\n",
       "      <td>NaN</td>\n",
       "      <td>...</td>\n",
       "      <td>NaN</td>\n",
       "      <td>Undefined</td>\n",
       "      <td>NaN</td>\n",
       "      <td>NaN</td>\n",
       "      <td>NaN</td>\n",
       "      <td>AIS</td>\n",
       "      <td>NaN</td>\n",
       "      <td>NaN</td>\n",
       "      <td>NaN</td>\n",
       "      <td>NaN</td>\n",
       "    </tr>\n",
       "    <tr>\n",
       "      <th>2</th>\n",
       "      <td>02/01/2019 00:00:00</td>\n",
       "      <td>Class A</td>\n",
       "      <td>265522240</td>\n",
       "      <td>57.699495</td>\n",
       "      <td>11.666988</td>\n",
       "      <td>Unknown value</td>\n",
       "      <td>0.0</td>\n",
       "      <td>0.0</td>\n",
       "      <td>246.0</td>\n",
       "      <td>243.0</td>\n",
       "      <td>...</td>\n",
       "      <td>NaN</td>\n",
       "      <td>Undefined</td>\n",
       "      <td>NaN</td>\n",
       "      <td>NaN</td>\n",
       "      <td>NaN</td>\n",
       "      <td>AIS</td>\n",
       "      <td>NaN</td>\n",
       "      <td>NaN</td>\n",
       "      <td>NaN</td>\n",
       "      <td>NaN</td>\n",
       "    </tr>\n",
       "    <tr>\n",
       "      <th>3</th>\n",
       "      <td>02/01/2019 00:00:00</td>\n",
       "      <td>Class A</td>\n",
       "      <td>231002000</td>\n",
       "      <td>91.000000</td>\n",
       "      <td>181.000000</td>\n",
       "      <td>Unknown value</td>\n",
       "      <td>NaN</td>\n",
       "      <td>NaN</td>\n",
       "      <td>NaN</td>\n",
       "      <td>NaN</td>\n",
       "      <td>...</td>\n",
       "      <td>138.0</td>\n",
       "      <td>GPS</td>\n",
       "      <td>5.6</td>\n",
       "      <td>FAYARD</td>\n",
       "      <td>26/12/2019 03:00:00</td>\n",
       "      <td>AIS</td>\n",
       "      <td>20.0</td>\n",
       "      <td>118.0</td>\n",
       "      <td>12.0</td>\n",
       "      <td>11.0</td>\n",
       "    </tr>\n",
       "    <tr>\n",
       "      <th>4</th>\n",
       "      <td>02/01/2019 00:00:00</td>\n",
       "      <td>Class A</td>\n",
       "      <td>219007401</td>\n",
       "      <td>57.122975</td>\n",
       "      <td>8.597812</td>\n",
       "      <td>Under way using engine</td>\n",
       "      <td>NaN</td>\n",
       "      <td>0.3</td>\n",
       "      <td>157.8</td>\n",
       "      <td>245.0</td>\n",
       "      <td>...</td>\n",
       "      <td>NaN</td>\n",
       "      <td>Undefined</td>\n",
       "      <td>NaN</td>\n",
       "      <td>NaN</td>\n",
       "      <td>NaN</td>\n",
       "      <td>AIS</td>\n",
       "      <td>NaN</td>\n",
       "      <td>NaN</td>\n",
       "      <td>NaN</td>\n",
       "      <td>NaN</td>\n",
       "    </tr>\n",
       "  </tbody>\n",
       "</table>\n",
       "<p>5 rows × 26 columns</p>\n",
       "</div>"
      ],
      "text/plain": [
       "           # Timestamp Type of mobile       MMSI   Latitude   Longitude  \\\n",
       "0  02/01/2019 00:00:00   Base Station    2194005  56.344267    4.272000   \n",
       "1  02/01/2019 00:00:00        Class B  266434000  57.715117   10.583545   \n",
       "2  02/01/2019 00:00:00        Class A  265522240  57.699495   11.666988   \n",
       "3  02/01/2019 00:00:00        Class A  231002000  91.000000  181.000000   \n",
       "4  02/01/2019 00:00:00        Class A  219007401  57.122975    8.597812   \n",
       "\n",
       "      Navigational status  ROT  SOG    COG  Heading  ... Length  \\\n",
       "0           Unknown value  NaN  NaN    NaN      NaN  ...    NaN   \n",
       "1           Unknown value  NaN  0.0    NaN      NaN  ...    NaN   \n",
       "2           Unknown value  0.0  0.0  246.0    243.0  ...    NaN   \n",
       "3           Unknown value  NaN  NaN    NaN      NaN  ...  138.0   \n",
       "4  Under way using engine  NaN  0.3  157.8    245.0  ...    NaN   \n",
       "\n",
       "  Type of position fixing device Draught Destination                  ETA  \\\n",
       "0                       Surveyed     NaN         NaN                  NaN   \n",
       "1                      Undefined     NaN         NaN                  NaN   \n",
       "2                      Undefined     NaN         NaN                  NaN   \n",
       "3                            GPS     5.6      FAYARD  26/12/2019 03:00:00   \n",
       "4                      Undefined     NaN         NaN                  NaN   \n",
       "\n",
       "   Data source type     A      B     C     D  \n",
       "0               AIS   NaN    NaN   NaN   NaN  \n",
       "1               AIS   NaN    NaN   NaN   NaN  \n",
       "2               AIS   NaN    NaN   NaN   NaN  \n",
       "3               AIS  20.0  118.0  12.0  11.0  \n",
       "4               AIS   NaN    NaN   NaN   NaN  \n",
       "\n",
       "[5 rows x 26 columns]"
      ]
     },
     "execution_count": 61,
     "metadata": {},
     "output_type": "execute_result"
    }
   ],
   "source": [
    "%%time\n",
    "ais_data = pd.read_csv(csv_file)\n",
    "ais_data.head()"
   ]
  },
  {
   "cell_type": "markdown",
   "id": "c5d67fa4",
   "metadata": {},
   "source": [
    "This dataset takes about 25 seconds. Lets investigate the memory usage of the dataset:"
   ]
  },
  {
   "cell_type": "code",
   "execution_count": 5,
   "id": "997f5491",
   "metadata": {},
   "outputs": [
    {
     "name": "stdout",
     "output_type": "stream",
     "text": [
      "<class 'pandas.core.frame.DataFrame'>\n",
      "RangeIndex: 9351207 entries, 0 to 9351206\n",
      "Data columns (total 26 columns):\n",
      " #   Column                          Dtype  \n",
      "---  ------                          -----  \n",
      " 0   # Timestamp                     object \n",
      " 1   Type of mobile                  object \n",
      " 2   MMSI                            int64  \n",
      " 3   Latitude                        float64\n",
      " 4   Longitude                       float64\n",
      " 5   Navigational status             object \n",
      " 6   ROT                             float64\n",
      " 7   SOG                             float64\n",
      " 8   COG                             float64\n",
      " 9   Heading                         float64\n",
      " 10  IMO                             object \n",
      " 11  Callsign                        object \n",
      " 12  Name                            object \n",
      " 13  Ship type                       object \n",
      " 14  Cargo type                      object \n",
      " 15  Width                           float64\n",
      " 16  Length                          float64\n",
      " 17  Type of position fixing device  object \n",
      " 18  Draught                         float64\n",
      " 19  Destination                     object \n",
      " 20  ETA                             object \n",
      " 21  Data source type                object \n",
      " 22  A                               float64\n",
      " 23  B                               float64\n",
      " 24  C                               float64\n",
      " 25  D                               float64\n",
      "dtypes: float64(13), int64(1), object(12)\n",
      "memory usage: 1.8+ GB\n"
     ]
    }
   ],
   "source": [
    "ais_data.info()"
   ]
  },
  {
   "cell_type": "markdown",
   "id": "c380a8f7",
   "metadata": {},
   "source": [
    "check the default dtypes in the dataframe:"
   ]
  },
  {
   "cell_type": "markdown",
   "id": "dbd2a701",
   "metadata": {},
   "source": [
    "## Data breakup\n",
    "\n",
    "Lets see the data breakup amongst the columns in the given table. The total memory usage is 1.8 gbs:"
   ]
  },
  {
   "cell_type": "code",
   "execution_count": 60,
   "id": "46cae1c8",
   "metadata": {},
   "outputs": [
    {
     "name": "stdout",
     "output_type": "stream",
     "text": [
      "# Timestamp | 71.34 MB\n",
      "Type of mobile | 71.34 MB\n",
      "MMSI | 71.34 MB\n",
      "Latitude | 71.34 MB\n",
      "Longitude | 71.34 MB\n",
      "Navigational status | 71.34 MB\n",
      "ROT | 71.34 MB\n",
      "SOG | 71.34 MB\n",
      "COG | 71.34 MB\n",
      "Heading | 71.34 MB\n",
      "IMO | 71.34 MB\n",
      "Callsign | 71.34 MB\n",
      "Name | 71.34 MB\n",
      "Ship type | 71.34 MB\n",
      "Cargo type | 71.34 MB\n",
      "Width | 71.34 MB\n",
      "Length | 71.34 MB\n",
      "Type of position fixing device | 71.34 MB\n",
      "Draught | 71.34 MB\n",
      "Destination | 71.34 MB\n",
      "ETA | 71.34 MB\n",
      "Data source type | 71.34 MB\n",
      "A | 71.34 MB\n",
      "B | 71.34 MB\n",
      "C | 71.34 MB\n",
      "D | 71.34 MB\n",
      "Total memory (MB): 1854.95\n"
     ]
    }
   ],
   "source": [
    "total_mem = 0\n",
    "for column in ais_data.columns:\n",
    "    mem_usage = ais_data[column].memory_usage(index=False)/(1024**2)\n",
    "    total_mem += mem_usage\n",
    "    print(\"%s | %.2f MB\" % (column, mem_usage))\n",
    "print(\"Total memory (MB): %.2f\" % total_mem)"
   ]
  },
  {
   "cell_type": "markdown",
   "id": "758b0c38",
   "metadata": {},
   "source": [
    "## Optimizing pandas dataframes\n",
    "\n",
    "Idea is to downgrade the data types of the dataframe by looking at the maximum and minimum columns.\n",
    "\n",
    "**for example**: A value with data type as int8 takes 8x times less memory compared to int64 data type.\n",
    "\n",
    "<img src=\"https://miro.medium.com/max/715/1*4eMUql7kfw2Xdg_OCWVAuw.png\"/>\n",
    "\n",
    "For conversion - \n",
    "- convert the all float64 types to float16 except for coordinates to retain the precision\n",
    "- convert all the string objects to pandas category dtype"
   ]
  },
  {
   "cell_type": "markdown",
   "id": "3946059b",
   "metadata": {},
   "source": [
    "## Numerical features"
   ]
  },
  {
   "cell_type": "code",
   "execution_count": 12,
   "id": "efc35b69",
   "metadata": {},
   "outputs": [
    {
     "name": "stdout",
     "output_type": "stream",
     "text": [
      "16bit:  0.1235\n",
      "32bit:  0.12345679\n",
      "64bit:  0.12345678912345678\n"
     ]
    }
   ],
   "source": [
    "a = np.array([0.123456789123456789,2,3], dtype=np.float16)\n",
    "print(\"16bit: \", a[0])\n",
    "\n",
    "a = np.array([0.123456789123456789,2,3], dtype=np.float32)\n",
    "print(\"32bit: \", a[0])\n",
    "\n",
    "b = np.array([0.123456789123456789,2,3], dtype=np.float64)\n",
    "print(\"64bit: \", b[0])"
   ]
  },
  {
   "cell_type": "markdown",
   "id": "64e07bdd",
   "metadata": {},
   "source": [
    "Heading is store as float but represents  integer value ranging from 0-510.\n",
    "We can convert the values to int16"
   ]
  },
  {
   "cell_type": "code",
   "execution_count": 8,
   "id": "78c2f932",
   "metadata": {},
   "outputs": [
    {
     "name": "stdout",
     "output_type": "stream",
     "text": [
      "Default the memory usage is: 71.34 MB\n",
      "After conversion the memory usage is: 17.84 MB\n"
     ]
    },
    {
     "data": {
      "text/plain": [
       "75.0"
      ]
     },
     "execution_count": 8,
     "metadata": {},
     "output_type": "execute_result"
    }
   ],
   "source": [
    "x1 = ais_data[\"Heading\"].memory_usage(index=False, deep=True)\n",
    "x2 = df[\"Heading\"].astype(\"float16\").memory_usage(index=False, deep=True)\n",
    "print(\"Default the memory usage is: %.2f MB\" % (x1/(1024**2)))\n",
    "print(\"After conversion the memory usage is: %.2f MB\" % (x2/(1024**2)))\n",
    "(x1-x2)/x1*100"
   ]
  },
  {
   "cell_type": "markdown",
   "id": "af1b1086",
   "metadata": {},
   "source": [
    "Similarly we can convert this for ROT, COG, speeds, height, width, draught, A, B, C, D:"
   ]
  },
  {
   "cell_type": "code",
   "execution_count": 9,
   "id": "483caa88",
   "metadata": {},
   "outputs": [
    {
     "data": {
      "text/plain": [
       "ROT        float64\n",
       "SOG        float64\n",
       "COG        float64\n",
       "Heading    float64\n",
       "Width      float64\n",
       "Length     float64\n",
       "Draught    float64\n",
       "A          float64\n",
       "B          float64\n",
       "C          float64\n",
       "D          float64\n",
       "dtype: object"
      ]
     },
     "execution_count": 9,
     "metadata": {},
     "output_type": "execute_result"
    }
   ],
   "source": [
    "float16_cols = ais_data.dtypes[ais_data.dtypes == \"float64\"][2:]\n",
    "float16_cols"
   ]
  },
  {
   "cell_type": "code",
   "execution_count": 10,
   "id": "fa602be7",
   "metadata": {},
   "outputs": [
    {
     "name": "stdout",
     "output_type": "stream",
     "text": [
      "Column | Min value | Max val | % missing\n",
      "ROT | -708.70 | 708.70 | 34.13\n",
      "SOG | 0.00 | 179.00 | 6.64\n",
      "COG | 0.00 | 359.90 | 9.94\n",
      "Heading | 0.00 | 510.00 | 21.73\n",
      "Width | 1.00 | 125.00 | 10.25\n",
      "Length | 2.00 | 405.00 | 10.16\n",
      "Draught | 0.10 | 25.50 | 25.17\n",
      "A | 1.00 | 260.00 | 10.39\n",
      "B | 1.00 | 335.00 | 10.82\n",
      "C | 1.00 | 63.00 | 10.97\n",
      "D | 1.00 | 62.00 | 11.23\n"
     ]
    }
   ],
   "source": [
    "print(\"Column | Min value | Max val | % missing\")\n",
    "for cols in float16_cols.index:\n",
    "    min_val, max_val = ais_data[cols].min(), ais_data[cols].max()\n",
    "    null_values = ais_data[cols].isnull().sum()/ len(ais_data[cols])*100\n",
    "    print(\"%s | %.2f | %.2f | %.2f\" % (cols, min_val, max_val, null_values))"
   ]
  },
  {
   "cell_type": "markdown",
   "id": "feb1d2b0",
   "metadata": {},
   "source": [
    "- We can easily convert these above values to a lower dtype such as int or float since the range is low\n",
    "- Converting most of these values to integer would be efficient but since almost all the columns have null values, it cannot be converted to int\n",
    "- Better it is to convert the float64 dtype values to float16, which can accomodate nan values as well. "
   ]
  },
  {
   "cell_type": "code",
   "execution_count": 11,
   "id": "0285cb3b",
   "metadata": {},
   "outputs": [
    {
     "name": "stdout",
     "output_type": "stream",
     "text": [
      "Default the memory usage is: 784.78 MB\n",
      "After conversion the memory usage is: 196.20 MB\n",
      "Total of 75 % reduction in the storage\n"
     ]
    }
   ],
   "source": [
    "total_mem = 0\n",
    "new_mem = 0\n",
    "\n",
    "for col in float16_cols.index:\n",
    "    x1 = ais_data[col].memory_usage(index=False, deep=True)\n",
    "    x2 = df[col].astype(\"float16\").memory_usage(index=False, deep=True)\n",
    "    total_mem += x1\n",
    "    new_mem += x2\n",
    "\n",
    "print(\"Default the memory usage is: %.2f MB\" % (total_mem/(1024**2)))\n",
    "print(\"After conversion the memory usage is: %.2f MB\" % (new_mem/(1024**2)))\n",
    "print(\"Total of %.f %% reduction in the storage\" % ((total_mem-new_mem)/total_mem*100))"
   ]
  },
  {
   "cell_type": "markdown",
   "id": "64398bf5",
   "metadata": {},
   "source": [
    "## Categorical data\n",
    "\n",
    "Converting the string data type to categorical types. Removing timestamp and ETA as they are datetime objects"
   ]
  },
  {
   "cell_type": "code",
   "execution_count": 125,
   "id": "ca7575ab",
   "metadata": {},
   "outputs": [
    {
     "name": "stdout",
     "output_type": "stream",
     "text": [
      "Column | % missing\n",
      "Type of mobile | 0.00 |\n",
      "Navigational status | 0.00 |\n",
      "IMO | 0.00 |\n",
      "Callsign | 7.41 |\n",
      "Name | 5.94 |\n",
      "Ship type | 0.00 |\n",
      "Cargo type | 84.99 |\n",
      "Type of position fixing device | 0.00 |\n",
      "Destination | 29.05 |\n",
      "Data source type | 0.00 |\n"
     ]
    }
   ],
   "source": [
    "print(\"Column | % missing\")\n",
    "string_cols = ais_data.dtypes[ais_data.dtypes == \"object\"].drop([\"# Timestamp\", \"ETA\"])\n",
    "\n",
    "for cols in string_cols.index:\n",
    "    null_values = ais_data[cols].isnull().sum()/ len(ais_data[cols])*100\n",
    "    print(\"%s | %.2f |\" % (cols, null_values))"
   ]
  },
  {
   "cell_type": "markdown",
   "id": "acd87938",
   "metadata": {},
   "source": [
    "Note: when converting the string objects to categorical, the missing values will be stored as nan"
   ]
  },
  {
   "cell_type": "code",
   "execution_count": 118,
   "id": "3cebba1a",
   "metadata": {},
   "outputs": [],
   "source": [
    "def mem_reduction(df, col=\"Type of mobile\", convert_to=\"category\"):\n",
    "    x1 = df[col].memory_usage(index=False, deep=True)\n",
    "    x2 = df[col].astype(convert_to).memory_usage(index=False, deep=True)\n",
    "    print(\"Default the memory usage is: %.2f MB\" % (x1/(1024**2)))\n",
    "    print(\"After conversion the memory usage is: %.2f MB\" % (x2/(1024**2)))\n",
    "    print(\"Total %.2f %% reduction in memory storage\" % ((x1-x2)/x1*100))"
   ]
  },
  {
   "cell_type": "code",
   "execution_count": 63,
   "id": "3d04a42c",
   "metadata": {},
   "outputs": [
    {
     "data": {
      "text/plain": [
       "Class A                          8573959\n",
       "Base Station                      446100\n",
       "Class B                           261495\n",
       "AtoN                               68015\n",
       "SAR Airborne                        1632\n",
       "Search and Rescue Transponder          6\n",
       "Name: Type of mobile, dtype: int64"
      ]
     },
     "execution_count": 63,
     "metadata": {},
     "output_type": "execute_result"
    }
   ],
   "source": [
    "df[\"Type of mobile\"].value_counts()"
   ]
  },
  {
   "cell_type": "markdown",
   "id": "82d7691d",
   "metadata": {},
   "source": [
    "Since this is a catergorical type of data, we can restore the values as categorical values:"
   ]
  },
  {
   "cell_type": "code",
   "execution_count": 64,
   "id": "d51400c4",
   "metadata": {},
   "outputs": [
    {
     "data": {
      "text/plain": [
       "899025     Class A\n",
       "7217377    Class A\n",
       "3686460    Class A\n",
       "2599428    Class A\n",
       "Name: Type of mobile, dtype: category\n",
       "Categories (6, object): ['AtoN', 'Base Station', 'Class A', 'Class B', 'SAR Airborne', 'Search and Rescue Transponder']"
      ]
     },
     "execution_count": 64,
     "metadata": {},
     "output_type": "execute_result"
    }
   ],
   "source": [
    "df[\"Type of mobile\"].astype(\"category\").sample(4)"
   ]
  },
  {
   "cell_type": "code",
   "execution_count": 119,
   "id": "b188a929",
   "metadata": {},
   "outputs": [
    {
     "name": "stdout",
     "output_type": "stream",
     "text": [
      "Default the memory usage is: 572.69 MB\n",
      "After conversion the memory usage is: 8.92 MB\n",
      "Total 98.44 % reduction in memory storage\n"
     ]
    }
   ],
   "source": [
    "mem_reduction(ais_data, col=\"Type of mobile\", convert_to=\"category\")"
   ]
  },
  {
   "cell_type": "code",
   "execution_count": 67,
   "id": "3d5df744",
   "metadata": {},
   "outputs": [
    {
     "data": {
      "text/plain": [
       "# Timestamp                       object\n",
       "Type of mobile                    object\n",
       "Navigational status               object\n",
       "IMO                               object\n",
       "Callsign                          object\n",
       "Name                              object\n",
       "Ship type                         object\n",
       "Cargo type                        object\n",
       "Type of position fixing device    object\n",
       "Destination                       object\n",
       "ETA                               object\n",
       "Data source type                  object\n",
       "dtype: object"
      ]
     },
     "execution_count": 67,
     "metadata": {},
     "output_type": "execute_result"
    }
   ],
   "source": [
    "string_cols = ais_data.dtypes[ais_data.dtypes == \"object\"]\n",
    "string_cols"
   ]
  },
  {
   "cell_type": "markdown",
   "id": "757b2d6b",
   "metadata": {},
   "source": [
    "Here only few columns can be converted to categorical type, like:\n",
    "- Type of mobile\n",
    "- Navigational status\n",
    "- Type of position fixing device\n",
    "- Data source type\n",
    "\n",
    "\n",
    "Here ETA and # Timestamp shall be read as datetime objects"
   ]
  },
  {
   "cell_type": "code",
   "execution_count": 68,
   "id": "f48f3e7b",
   "metadata": {},
   "outputs": [
    {
     "data": {
      "text/plain": [
       "Under way using engine                 5462606\n",
       "Engaged in fishing                     1516496\n",
       "Unknown value                          1472244\n",
       "Moored                                  328509\n",
       "Under way sailing                       164395\n",
       "Restricted maneuverability              157223\n",
       "At anchor                               101167\n",
       "Constrained by her draught               70928\n",
       "Reserved for future amendment [HSC]      39985\n",
       "Not under command                        16972\n",
       "Reserved for future amendment [WIG]      11614\n",
       "Reserved for future use [11]              7533\n",
       "Aground                                   1532\n",
       "Reserved for future use [12]                 2\n",
       "AIS-SART                                     1\n",
       "Name: Navigational status, dtype: int64"
      ]
     },
     "execution_count": 68,
     "metadata": {},
     "output_type": "execute_result"
    }
   ],
   "source": [
    "ais_data[\"Navigational status\"].value_counts()"
   ]
  },
  {
   "cell_type": "code",
   "execution_count": 120,
   "id": "8eafc7eb",
   "metadata": {},
   "outputs": [
    {
     "name": "stdout",
     "output_type": "stream",
     "text": [
      "Default the memory usage is: 680.50 MB\n",
      "After conversion the memory usage is: 8.92 MB\n",
      "Total 98.69 % reduction in memory storage\n"
     ]
    }
   ],
   "source": [
    "mem_reduction(ais_data, col=\"Navigational status\", convert_to=\"category\")"
   ]
  },
  {
   "cell_type": "code",
   "execution_count": 121,
   "id": "f2100cad",
   "metadata": {},
   "outputs": [
    {
     "name": "stdout",
     "output_type": "stream",
     "text": [
      "Default the memory usage is: 531.56 MB\n",
      "After conversion the memory usage is: 18.04 MB\n",
      "Total 96.61 % reduction in memory storage\n"
     ]
    }
   ],
   "source": [
    "mem_reduction(ais_data, col=\"Callsign\", convert_to=\"category\")"
   ]
  },
  {
   "cell_type": "markdown",
   "id": "00a4d2c9",
   "metadata": {},
   "source": [
    "Lets see which object dtype we can convert to categorical dtype:\n",
    "\n",
    "- we have to keep in mind about the nunique values for each columns\n",
    "- if the values are say less than 10% of the total ais data, it is wise to convert it to categorial\n",
    "- Since some of the time nunique values are above 80%, in that case storing string columns as categorical dtype will end up using more memory"
   ]
  },
  {
   "cell_type": "code",
   "execution_count": 126,
   "id": "1c2b7c3f",
   "metadata": {},
   "outputs": [
    {
     "name": "stdout",
     "output_type": "stream",
     "text": [
      "'Type of mobile' has about 0.00 % unique values\n",
      "'Navigational status' has about 0.00 % unique values\n",
      "'IMO' has about 0.01 % unique values\n",
      "'Callsign' has about 0.02 % unique values\n",
      "'Name' has about 0.02 % unique values\n",
      "'Ship type' has about 0.00 % unique values\n",
      "'Cargo type' has about 0.00 % unique values\n",
      "'Type of position fixing device' has about 0.00 % unique values\n",
      "'Destination' has about 0.01 % unique values\n",
      "'Data source type' has about 0.00 % unique values\n"
     ]
    }
   ],
   "source": [
    "for col in string_cols.index:\n",
    "    unique_values = ais_data[col].nunique()\n",
    "    print(\"'%s' has about %.2f %% unique values\" % (col, unique_values/len(ais_data)*100))"
   ]
  },
  {
   "cell_type": "markdown",
   "id": "20620fe0",
   "metadata": {},
   "source": [
    "Here we can see that - \n",
    "- ~~call *IMO, sign, name & destination* are some columns which are having a lot of unique values. Hence they cannot be converted to category.~~\n",
    "- since the unqiue values in all the columns are negligible compared to the total data, we can convert these to categorical dtype\n",
    "- also ETA is timestamp, we need to convert it to datetime"
   ]
  },
  {
   "cell_type": "code",
   "execution_count": 128,
   "id": "5b3939b4",
   "metadata": {},
   "outputs": [
    {
     "name": "stdout",
     "output_type": "stream",
     "text": [
      "Type of mobile\n",
      "Default the memory usage is: 572.69 MB\n",
      "After conversion the memory usage is: 8.92 MB\n",
      "Total 98.44 % reduction in memory storage\n",
      "------------------------------\n",
      "Navigational status\n",
      "Default the memory usage is: 680.50 MB\n",
      "After conversion the memory usage is: 8.92 MB\n",
      "Total 98.69 % reduction in memory storage\n",
      "------------------------------\n",
      "IMO\n",
      "Default the memory usage is: 570.79 MB\n",
      "After conversion the memory usage is: 17.94 MB\n",
      "Total 96.86 % reduction in memory storage\n",
      "------------------------------\n",
      "Callsign\n",
      "Default the memory usage is: 531.56 MB\n",
      "After conversion the memory usage is: 18.04 MB\n",
      "Total 96.61 % reduction in memory storage\n",
      "------------------------------\n",
      "Name\n",
      "Default the memory usage is: 584.35 MB\n",
      "After conversion the memory usage is: 18.06 MB\n",
      "Total 96.91 % reduction in memory storage\n",
      "------------------------------\n",
      "Ship type\n",
      "Default the memory usage is: 565.95 MB\n",
      "After conversion the memory usage is: 8.92 MB\n",
      "Total 98.42 % reduction in memory storage\n",
      "------------------------------\n",
      "Cargo type\n",
      "Default the memory usage is: 345.66 MB\n",
      "After conversion the memory usage is: 8.92 MB\n",
      "Total 97.42 % reduction in memory storage\n",
      "------------------------------\n",
      "Type of position fixing device\n",
      "Default the memory usage is: 545.70 MB\n",
      "After conversion the memory usage is: 8.92 MB\n",
      "Total 98.37 % reduction in memory storage\n",
      "------------------------------\n",
      "Destination\n",
      "Default the memory usage is: 505.29 MB\n",
      "After conversion the memory usage is: 17.94 MB\n",
      "Total 96.45 % reduction in memory storage\n",
      "------------------------------\n",
      "Data source type\n",
      "Default the memory usage is: 535.08 MB\n",
      "After conversion the memory usage is: 8.92 MB\n",
      "Total 98.33 % reduction in memory storage\n",
      "------------------------------\n"
     ]
    }
   ],
   "source": [
    "for col in string_cols.index:\n",
    "    print(col)\n",
    "    mem_reduction(ais_data, col=col, convert_to=\"category\")\n",
    "    print(\"-\"*30)"
   ]
  },
  {
   "cell_type": "markdown",
   "id": "9ae9e3a0",
   "metadata": {},
   "source": [
    "## Loading the csv using typecasting"
   ]
  },
  {
   "cell_type": "code",
   "execution_count": 129,
   "id": "2624f7d1",
   "metadata": {},
   "outputs": [
    {
     "data": {
      "text/plain": [
       "['Type of mobile',\n",
       " 'Navigational status',\n",
       " 'IMO',\n",
       " 'Callsign',\n",
       " 'Name',\n",
       " 'Ship type',\n",
       " 'Cargo type',\n",
       " 'Type of position fixing device',\n",
       " 'Destination',\n",
       " 'Data source type']"
      ]
     },
     "execution_count": 129,
     "metadata": {},
     "output_type": "execute_result"
    }
   ],
   "source": [
    "list(string_cols.index)"
   ]
  },
  {
   "cell_type": "code",
   "execution_count": 85,
   "id": "5175751e",
   "metadata": {},
   "outputs": [
    {
     "data": {
      "text/plain": [
       "['ROT',\n",
       " 'SOG',\n",
       " 'COG',\n",
       " 'Heading',\n",
       " 'Width',\n",
       " 'Length',\n",
       " 'Draught',\n",
       " 'A',\n",
       " 'B',\n",
       " 'C',\n",
       " 'D']"
      ]
     },
     "execution_count": 85,
     "metadata": {},
     "output_type": "execute_result"
    }
   ],
   "source": [
    "list(float16_cols.index)"
   ]
  },
  {
   "cell_type": "markdown",
   "id": "240ab632",
   "metadata": {},
   "source": [
    "Convert the dtypes to the optimized dtypes for each columns"
   ]
  },
  {
   "cell_type": "code",
   "execution_count": 130,
   "id": "819bb134",
   "metadata": {},
   "outputs": [
    {
     "name": "stdout",
     "output_type": "stream",
     "text": [
      "Wall time: 38.7 s\n"
     ]
    }
   ],
   "source": [
    "%%time\n",
    "dtype_dict = {\n",
    "    \"MMSI\" : \"int32\",\n",
    "    'ROT' : \"float16\",\n",
    "    'SOG' : \"float16\",\n",
    "    'COG' : \"float16\",\n",
    "    'Heading' : \"float16\",\n",
    "    'Width' : \"float16\",\n",
    "    'Length' : \"float16\",\n",
    "    'Draught' : \"float16\",\n",
    "    'A' : \"float16\",\n",
    "    'B' : \"float16\",\n",
    "    'C' : \"float16\",\n",
    "    'D' : \"float16\",\n",
    "    'Type of mobile' : \"category\",\n",
    "    'Navigational status' : \"category\",\n",
    "    'IMO' : \"category\",\n",
    "    'Callsign' : \"category\",\n",
    "    'Name' : \"category\",\n",
    "    'Ship type' : \"category\",\n",
    "    'Cargo type' : \"category\",\n",
    "    'Type of position fixing device' : \"category\",\n",
    "    'Destination' : \"category\",\n",
    "    'Data source type' : \"category\"\n",
    "}\n",
    "\n",
    "df = pd.read_csv(csv_file, dtype=dtype_dict, parse_dates=[\"# Timestamp\", \"ETA\"])"
   ]
  },
  {
   "cell_type": "code",
   "execution_count": 131,
   "id": "3d4eeedb",
   "metadata": {},
   "outputs": [
    {
     "name": "stdout",
     "output_type": "stream",
     "text": [
      "<class 'pandas.core.frame.DataFrame'>\n",
      "RangeIndex: 9351207 entries, 0 to 9351206\n",
      "Data columns (total 26 columns):\n",
      " #   Column                          Dtype         \n",
      "---  ------                          -----         \n",
      " 0   # Timestamp                     datetime64[ns]\n",
      " 1   Type of mobile                  category      \n",
      " 2   MMSI                            int32         \n",
      " 3   Latitude                        float64       \n",
      " 4   Longitude                       float64       \n",
      " 5   Navigational status             category      \n",
      " 6   ROT                             float16       \n",
      " 7   SOG                             float16       \n",
      " 8   COG                             float16       \n",
      " 9   Heading                         float16       \n",
      " 10  IMO                             category      \n",
      " 11  Callsign                        category      \n",
      " 12  Name                            category      \n",
      " 13  Ship type                       category      \n",
      " 14  Cargo type                      category      \n",
      " 15  Width                           float16       \n",
      " 16  Length                          float16       \n",
      " 17  Type of position fixing device  category      \n",
      " 18  Draught                         float16       \n",
      " 19  Destination                     category      \n",
      " 20  ETA                             datetime64[ns]\n",
      " 21  Data source type                category      \n",
      " 22  A                               float16       \n",
      " 23  B                               float16       \n",
      " 24  C                               float16       \n",
      " 25  D                               float16       \n",
      "dtypes: category(10), datetime64[ns](2), float16(11), float64(2), int32(1)\n",
      "memory usage: 642.4 MB\n"
     ]
    }
   ],
   "source": [
    "df.info()"
   ]
  },
  {
   "cell_type": "code",
   "execution_count": 144,
   "id": "f626278c",
   "metadata": {},
   "outputs": [
    {
     "name": "stdout",
     "output_type": "stream",
     "text": [
      "The original file was around 1.81 gbs whereas optimized one was 0.63 gbs\n",
      "The total reduction was around 65.37 % in memory usage\n"
     ]
    }
   ],
   "source": [
    "original = ais_data.memory_usage(index=False).sum()/(1024**3)\n",
    "optimized = df.memory_usage(index=False).sum()/(1024**3)\n",
    "print(\"The original file was around %.2f gbs whereas optimized one was %.2f gbs.\" % (original, optimized))\n",
    "print(\"The total reduction was around %.2f %% in memory usage.\" % (((original-optimized)/original)*100))"
   ]
  },
  {
   "cell_type": "markdown",
   "id": "64c60d9a",
   "metadata": {},
   "source": [
    "## Exporting and importing as pickle file"
   ]
  },
  {
   "cell_type": "code",
   "execution_count": 132,
   "id": "8cf5a792",
   "metadata": {},
   "outputs": [
    {
     "name": "stdout",
     "output_type": "stream",
     "text": [
      "Wall time: 1.89 s\n"
     ]
    }
   ],
   "source": [
    "%%time\n",
    "with open(\"aisdk_20190102.pickle\", \"wb\") as pkl_file:\n",
    "    pickle.dump(df, pkl_file)"
   ]
  },
  {
   "cell_type": "code",
   "execution_count": 133,
   "id": "c7dfa569",
   "metadata": {},
   "outputs": [
    {
     "name": "stdout",
     "output_type": "stream",
     "text": [
      "<class 'pandas.core.frame.DataFrame'>\n",
      "RangeIndex: 9351207 entries, 0 to 9351206\n",
      "Data columns (total 26 columns):\n",
      " #   Column                          Dtype         \n",
      "---  ------                          -----         \n",
      " 0   # Timestamp                     datetime64[ns]\n",
      " 1   Type of mobile                  category      \n",
      " 2   MMSI                            int32         \n",
      " 3   Latitude                        float64       \n",
      " 4   Longitude                       float64       \n",
      " 5   Navigational status             category      \n",
      " 6   ROT                             float16       \n",
      " 7   SOG                             float16       \n",
      " 8   COG                             float16       \n",
      " 9   Heading                         float16       \n",
      " 10  IMO                             category      \n",
      " 11  Callsign                        category      \n",
      " 12  Name                            category      \n",
      " 13  Ship type                       category      \n",
      " 14  Cargo type                      category      \n",
      " 15  Width                           float16       \n",
      " 16  Length                          float16       \n",
      " 17  Type of position fixing device  category      \n",
      " 18  Draught                         float16       \n",
      " 19  Destination                     category      \n",
      " 20  ETA                             datetime64[ns]\n",
      " 21  Data source type                category      \n",
      " 22  A                               float16       \n",
      " 23  B                               float16       \n",
      " 24  C                               float16       \n",
      " 25  D                               float16       \n",
      "dtypes: category(10), datetime64[ns](2), float16(11), float64(2), int32(1)\n",
      "memory usage: 642.1 MB\n",
      "Wall time: 939 ms\n"
     ]
    }
   ],
   "source": [
    "%%time\n",
    "with open(\"aisdk_20190102.pickle\", \"rb\") as pkl_file:\n",
    "    data = pickle.load(pkl_file)\n",
    "\n",
    "data.info()"
   ]
  },
  {
   "cell_type": "markdown",
   "id": "963a7d82",
   "metadata": {},
   "source": [
    "## Conclusion\n",
    "\n",
    "- If we convert the dataframe dtypes to a downgrade version, we reduce the memory usage more than 60% the original. \n",
    "- Saving the objects types which were originally using 8bytes of memory can be optimized to pandas categorical dtype, which uses hash tables to encode the unique values\n",
    "- However not always the conversion of object to categorical is recommended, it depends upon the number of unique values of a column. \n",
    "- In this case we can convert all the object type to categorical since unique values were fractional\n",
    "- Converting the float64 dtype to float16 can efficiently reduce the memory usuage.\n",
    "- All conversion can significantly reduce the memory usage of the file. \n",
    "- Exporting the file to pickle file and reading the back the pickle file while loading can significanly reduce the reading time compared to pandas read csv.\n",
    "\n",
    "\n",
    "We can use this pipeline to store all the csv files to pickle files and use it for further processing\n",
    "\n",
    "**Reference:**\n",
    "\n",
    "1. [Optimize the pandas dataframe](https://towardsdatascience.com/optimize-pandas-memory-usage-while-reading-large-datasets-1b047c762c9b)\n",
    "2. [More on pandas categorical dtype and how it works](https://medium.com/analytics-vidhya/unleash-the-power-of-pandas-category-dtype-encode-categorical-data-in-smarter-ways-eb787cd274df)"
   ]
  }
 ],
 "metadata": {
  "kernelspec": {
   "display_name": "Python 3",
   "language": "python",
   "name": "python3"
  },
  "language_info": {
   "codemirror_mode": {
    "name": "ipython",
    "version": 3
   },
   "file_extension": ".py",
   "mimetype": "text/x-python",
   "name": "python",
   "nbconvert_exporter": "python",
   "pygments_lexer": "ipython3",
   "version": "3.8.8"
  },
  "toc": {
   "base_numbering": 1,
   "nav_menu": {},
   "number_sections": true,
   "sideBar": true,
   "skip_h1_title": false,
   "title_cell": "Table of Contents",
   "title_sidebar": "Contents",
   "toc_cell": false,
   "toc_position": {},
   "toc_section_display": true,
   "toc_window_display": true
  }
 },
 "nbformat": 4,
 "nbformat_minor": 5
}

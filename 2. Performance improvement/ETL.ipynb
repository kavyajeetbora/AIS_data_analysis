{
 "cells": [
  {
   "cell_type": "code",
   "execution_count": 1,
   "id": "2e3be7dc",
   "metadata": {},
   "outputs": [],
   "source": [
    "import pandas as pd\n",
    "import pickle\n",
    "from glob import glob\n",
    "from tqdm import tqdm ## install tqdm on anaconda \n",
    "import os"
   ]
  },
  {
   "cell_type": "markdown",
   "id": "a4d87195",
   "metadata": {},
   "source": [
    "## Change the source and destination folder"
   ]
  },
  {
   "cell_type": "code",
   "execution_count": 4,
   "id": "abf01469",
   "metadata": {},
   "outputs": [],
   "source": [
    "src_folder = \"C:\\\\Users\\kvba\\\\OneDrive - Ramboll\\\\Projects\\\\Ship traffic data of Fehmarnbelt\\\\data\\\\\"\n",
    "dest_folder = \"C:\\\\Users\\kvba\\\\OneDrive - Ramboll\\\\Projects\\\\Ship traffic data of Fehmarnbelt\\\\data\\\\ais_data_pkl\\\\\""
   ]
  },
  {
   "cell_type": "code",
   "execution_count": 9,
   "id": "d13f36a5",
   "metadata": {},
   "outputs": [
    {
     "name": "stdout",
     "output_type": "stream",
     "text": [
      "Total files that needs to be converted:\n",
      "31\n"
     ]
    }
   ],
   "source": [
    "files = glob(src_folder+\"*.csv\")\n",
    "print(\"Total files that needs to be converted:\")\n",
    "print(len(files))"
   ]
  },
  {
   "cell_type": "code",
   "execution_count": 16,
   "id": "6509d9bd",
   "metadata": {},
   "outputs": [
    {
     "name": "stdout",
     "output_type": "stream",
     "text": [
      "0\n"
     ]
    }
   ],
   "source": [
    "stored_files = glob(dest_folder+\".pickle\")\n",
    "print(len(stored_files))"
   ]
  },
  {
   "cell_type": "markdown",
   "id": "701e3341",
   "metadata": {},
   "source": [
    "## Converting the csv files to optimized pickle files"
   ]
  },
  {
   "cell_type": "code",
   "execution_count": 2,
   "id": "9de8d6cf",
   "metadata": {},
   "outputs": [
    {
     "name": "stdout",
     "output_type": "stream",
     "text": [
      "Wall time: 0 ns\n"
     ]
    }
   ],
   "source": [
    "dtype_dict = {\n",
    "    \"MMSI\" : \"int32\",\n",
    "    'ROT' : \"float16\",\n",
    "    'SOG' : \"float16\",\n",
    "    'COG' : \"float16\",\n",
    "    'Heading' : \"float16\",\n",
    "    'Width' : \"float16\",\n",
    "    'Length' : \"float16\",\n",
    "    'Draught' : \"float16\",\n",
    "    'A' : \"float16\",\n",
    "    'B' : \"float16\",\n",
    "    'C' : \"float16\",\n",
    "    'D' : \"float16\",\n",
    "    'Type of mobile' : \"category\",\n",
    "    'Navigational status' : \"category\",\n",
    "    'IMO' : \"category\",\n",
    "    'Callsign' : \"category\",\n",
    "    'Name' : \"category\",\n",
    "    'Ship type' : \"category\",\n",
    "    'Cargo type' : \"category\",\n",
    "    'Type of position fixing device' : \"category\",\n",
    "    'Destination' : \"category\",\n",
    "    'Data source type' : \"category\"\n",
    "}"
   ]
  },
  {
   "cell_type": "code",
   "execution_count": 21,
   "id": "7a3338a0",
   "metadata": {},
   "outputs": [
    {
     "name": "stderr",
     "output_type": "stream",
     "text": [
      "100%|████████████████████████████████████████████████████████████████████████████████| 31/31 [00:00<00:00, 2581.73it/s]"
     ]
    },
    {
     "name": "stdout",
     "output_type": "stream",
     "text": [
      "aisdk_20190101 csv file already stored as pickle file.\n",
      "aisdk_20190102 csv file already stored as pickle file.\n",
      "aisdk_20190103 csv file already stored as pickle file.\n",
      "aisdk_20190104 csv file already stored as pickle file.\n",
      "aisdk_20190105 csv file already stored as pickle file.\n",
      "aisdk_20190106 csv file already stored as pickle file.\n",
      "aisdk_20190107 csv file already stored as pickle file.\n",
      "aisdk_20190108 csv file already stored as pickle file.\n",
      "aisdk_20190109 csv file already stored as pickle file.\n",
      "aisdk_20190110 csv file already stored as pickle file.\n",
      "aisdk_20190111 csv file already stored as pickle file.\n",
      "aisdk_20190112 csv file already stored as pickle file.\n",
      "aisdk_20190113 csv file already stored as pickle file.\n",
      "aisdk_20190114 csv file already stored as pickle file.\n",
      "aisdk_20190115 csv file already stored as pickle file.\n",
      "aisdk_20190116 csv file already stored as pickle file.\n",
      "aisdk_20190117 csv file already stored as pickle file.\n",
      "aisdk_20190118 csv file already stored as pickle file.\n",
      "aisdk_20190119 csv file already stored as pickle file.\n",
      "aisdk_20190120 csv file already stored as pickle file.\n",
      "aisdk_20190121 csv file already stored as pickle file.\n",
      "aisdk_20190122 csv file already stored as pickle file.\n",
      "aisdk_20190123 csv file already stored as pickle file.\n",
      "aisdk_20190124 csv file already stored as pickle file.\n",
      "aisdk_20190125 csv file already stored as pickle file.\n",
      "aisdk_20190126 csv file already stored as pickle file.\n",
      "aisdk_20190127 csv file already stored as pickle file.\n",
      "aisdk_20190128 csv file already stored as pickle file.\n",
      "aisdk_20190129 csv file already stored as pickle file.\n",
      "aisdk_20190130 csv file already stored as pickle file.\n",
      "aisdk_20190131 csv file already stored as pickle file.\n",
      "Wall time: 14 ms\n"
     ]
    },
    {
     "name": "stderr",
     "output_type": "stream",
     "text": [
      "\n"
     ]
    }
   ],
   "source": [
    "%%time\n",
    "for file in tqdm(files):\n",
    "    filename = os.path.basename(file).split(\".\")[0]\n",
    "    output_filename = dest_folder+filename+\".pickle\"\n",
    "    \n",
    "    ## if already exist then dont transform the data\n",
    "    if not os.path.isfile(output_filename):\n",
    "        df = pd.read_csv(file, dtype=dtype_dict, parse_dates=[\"# Timestamp\", \"ETA\"])\n",
    "        with open(output_filename,\"wb\") as pkl_file:\n",
    "            pickle.dump(df, pkl_file)\n",
    "    else:\n",
    "        print(\"%s csv file already stored as pickle file.\"%filename)"
   ]
  }
 ],
 "metadata": {
  "kernelspec": {
   "display_name": "Python 3",
   "language": "python",
   "name": "python3"
  },
  "language_info": {
   "codemirror_mode": {
    "name": "ipython",
    "version": 3
   },
   "file_extension": ".py",
   "mimetype": "text/x-python",
   "name": "python",
   "nbconvert_exporter": "python",
   "pygments_lexer": "ipython3",
   "version": "3.8.8"
  },
  "toc": {
   "base_numbering": 1,
   "nav_menu": {},
   "number_sections": true,
   "sideBar": true,
   "skip_h1_title": false,
   "title_cell": "Table of Contents",
   "title_sidebar": "Contents",
   "toc_cell": false,
   "toc_position": {},
   "toc_section_display": true,
   "toc_window_display": false
  }
 },
 "nbformat": 4,
 "nbformat_minor": 5
}
